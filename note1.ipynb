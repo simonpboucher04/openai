{
 "cells": [
  {
   "cell_type": "code",
   "execution_count": 42,
   "id": "798dc654-fbd5-4b93-860e-84c7047f7bf5",
   "metadata": {},
   "outputs": [],
   "source": [
    "import os\n",
    "import requests\n",
    "from dotenv import load_dotenv\n",
    "from IPython.display import display, HTML\n",
    "import re\n",
    "\n",
    "# Load environment variables from the .env file\n",
    "load_dotenv()\n",
    "\n",
    "# Get the API key from environment variables\n",
    "api_key = os.getenv(\"OPENAI_API_KEY\")\n"
   ]
  },
  {
   "cell_type": "code",
   "execution_count": 10,
   "id": "9ab00e56-6f15-4776-932e-fab1055e69d0",
   "metadata": {},
   "outputs": [],
   "source": [
    "import requests\n",
    "\n",
    "def generate_openai_text(api_key, model, messages, temperature=1.0, max_tokens=2000, top_p=1.0, frequency_penalty=0.0, presence_penalty=0.0):\n",
    "    \"\"\"\n",
    "    Generate text using OpenAI's API.\n",
    "    \n",
    "    Parameters:\n",
    "    - api_key (str): The API key for OpenAI.\n",
    "    - model (str): The model to use for text generation.\n",
    "    - messages (list): A list of messages to pass to the API in a conversation format.\n",
    "    - temperature (float): Controls randomness in the output (0-1).\n",
    "    - max_tokens (int): The maximum number of tokens to generate in the completion.\n",
    "    - top_p (float): Controls the diversity via nucleus sampling (0-1).\n",
    "    - frequency_penalty (float): Controls the repetition of words (0-1).\n",
    "    - presence_penalty (float): Controls the introduction of new topics (0-1).\n",
    "    \n",
    "    Returns:\n",
    "    - response (dict): The API response as a dictionary.\n",
    "    \"\"\"\n",
    "    url = \"https://api.openai.com/v1/chat/completions\"\n",
    "    headers = {\n",
    "        \"Content-Type\": \"application/json\",\n",
    "        \"Authorization\": f\"Bearer {api_key}\"\n",
    "    }\n",
    "    data = {\n",
    "        \"model\": model,\n",
    "        \"messages\": messages,\n",
    "        \"temperature\": temperature,\n",
    "        \"max_tokens\": max_tokens,\n",
    "        \"top_p\": top_p,\n",
    "        \"frequency_penalty\": frequency_penalty,\n",
    "        \"presence_penalty\": presence_penalty\n",
    "    }\n",
    "\n",
    "    try:\n",
    "        response = requests.post(url, headers=headers, json=data)\n",
    "        response.raise_for_status()\n",
    "        return response.json()\n",
    "    except requests.exceptions.RequestException as e:\n",
    "        print(f\"An error occurred: {e}\")\n",
    "        return None\n"
   ]
  },
  {
   "cell_type": "code",
   "execution_count": 11,
   "id": "ec9d03df-b721-4a23-abe1-380de6230468",
   "metadata": {},
   "outputs": [],
   "source": [
    "def format_openai_response(response):\n",
    "    \"\"\"\n",
    "    Formats the response from OpenAI API to display only the assistant's message.\n",
    "    \n",
    "    Parameters:\n",
    "    - response (dict): The API response as a dictionary.\n",
    "    \n",
    "    Returns:\n",
    "    - formatted_text (str): A formatted string with Markdown for the assistant's message.\n",
    "    \"\"\"\n",
    "    if response and \"choices\" in response:\n",
    "        assistant_message = response[\"choices\"][0][\"message\"][\"content\"]\n",
    "        formatted_text = f\"**Assistant:**\\n\\n{assistant_message}\\n\"\n",
    "        return formatted_text\n",
    "    else:\n",
    "        return \"No valid response received.\"\n"
   ]
  },
  {
   "cell_type": "code",
   "execution_count": 12,
   "id": "25f95af3-8711-451d-bd8e-1a44bf011663",
   "metadata": {},
   "outputs": [],
   "source": [
    "class ChatBot:\n",
    "    def __init__(self, api_key, model=\"gpt-4o\", temperature=1.0, max_tokens=256, top_p=1.0, frequency_penalty=0.0, presence_penalty=0.0):\n",
    "        \"\"\"\n",
    "        Initialize the ChatBot with API key and parameters.\n",
    "        \n",
    "        Parameters:\n",
    "        - api_key (str): The API key for OpenAI.\n",
    "        - model (str): The model to use for text generation.\n",
    "        - temperature (float): Controls randomness in the output (0-1).\n",
    "        - max_tokens (int): The maximum number of tokens to generate in the completion.\n",
    "        - top_p (float): Controls the diversity via nucleus sampling (0-1).\n",
    "        - frequency_penalty (float): Controls the repetition of words (0-1).\n",
    "        - presence_penalty (float): Controls the introduction of new topics (0-1).\n",
    "        \"\"\"\n",
    "        self.api_key = api_key\n",
    "        self.model = model\n",
    "        self.temperature = temperature\n",
    "        self.max_tokens = max_tokens\n",
    "        self.top_p = top_p\n",
    "        self.frequency_penalty = frequency_penalty\n",
    "        self.presence_penalty = presence_penalty\n",
    "        self.conversation_history = []\n",
    "\n",
    "    def add_message(self, role, content):\n",
    "        \"\"\"\n",
    "        Add a message to the conversation history.\n",
    "        \n",
    "        Parameters:\n",
    "        - role (str): The role of the sender (\"user\" or \"assistant\").\n",
    "        - content (str): The content of the message.\n",
    "        \"\"\"\n",
    "        self.conversation_history.append({\"role\": role, \"content\": content})\n",
    "\n",
    "    def get_response(self, user_input):\n",
    "        \"\"\"\n",
    "        Get a response from the OpenAI API based on the user input.\n",
    "        \n",
    "        Parameters:\n",
    "        - user_input (str): The user's input message.\n",
    "        \n",
    "        Returns:\n",
    "        - assistant_reply (str): The assistant's generated response.\n",
    "        \"\"\"\n",
    "        # Add user input to conversation history\n",
    "        self.add_message(\"user\", user_input)\n",
    "\n",
    "        # Call the OpenAI API to get a response\n",
    "        response = generate_openai_text(\n",
    "            self.api_key,\n",
    "            self.model,\n",
    "            self.conversation_history,\n",
    "            temperature=self.temperature,\n",
    "            max_tokens=self.max_tokens,\n",
    "            top_p=self.top_p,\n",
    "            frequency_penalty=self.frequency_penalty,\n",
    "            presence_penalty=self.presence_penalty\n",
    "        )\n",
    "\n",
    "        if response:\n",
    "            # Extract the assistant's reply\n",
    "            assistant_reply = response[\"choices\"][0][\"message\"][\"content\"]\n",
    "            # Add assistant's reply to conversation history\n",
    "            self.add_message(\"assistant\", assistant_reply)\n",
    "            return assistant_reply\n",
    "        else:\n",
    "            return \"Sorry, I couldn't generate a response.\"\n",
    "\n"
   ]
  },
  {
   "cell_type": "code",
   "execution_count": 13,
   "id": "57b83c6b-dc5b-4008-a790-70b67f04a0d1",
   "metadata": {},
   "outputs": [
    {
     "name": "stdout",
     "output_type": "stream",
     "text": [
      "**Assistant:**\n",
      "\n",
      "Certainly! Supply and demand are fundamental concepts in economics that describe how markets function and determine prices and quantity of goods and services exchanged in an economy.\n",
      "\n",
      "### Demand\n",
      "Demand refers to the quantity of a good or service that consumers are willing and able to purchase at various prices, over a given time period. The relationship between price and quantity demanded is typically inverse: as the price of a good decreases, the quantity demanded usually increases, and vice versa. This relationship is represented graphically by a downward-sloping demand curve.\n",
      "\n",
      "Several factors can affect demand, including:\n",
      "- **Price of the good**: Generally, lower prices lead to higher demand.\n",
      "- **Consumer income**: An increase in income can lead to an increase in demand, especially for normal goods.\n",
      "- **Preferences and tastes**: Changes in consumer preferences can increase or decrease demand.\n",
      "- **Prices of related goods**: This includes substitutes (which can have an inverse relationship in demand) and complements (which can have a direct relationship).\n",
      "- **Expectations**: If consumers expect future prices to rise, they may buy more now, increasing current demand.\n",
      "\n",
      "### Supply\n",
      "Supply refers to the quantity of a good or service that producers are willing and able to sell at different prices over a specific time period. Generally, there is a positive relationship between price and quantity supplied: as the price of a good rises, the quantity supplied typically increases because higher prices can make production more profitable. This relationship is depicted by an upward-sloping supply curve.\n",
      "\n",
      "Factors that can influence supply include:\n",
      "- **Price of the good**: Higher prices often encourage producers to supply more.\n",
      "- **Production costs**: If it becomes cheaper to produce a good, supply may increase; if costs rise, supply may decrease.\n",
      "- **Technology**: Advances in technology can improve efficiency and increase supply.\n",
      "- **Number of sellers**: More sellers in a market can increase overall supply.\n",
      "- **Expectations**: If producers expect prices to rise in the future, they might hold back some supply now.\n",
      "\n",
      "### Market Equilibrium\n",
      "The interaction of supply and demand determines the market equilibrium, which is the point where the quantity demanded equals the quantity supplied. The corresponding price at this point is called the equilibrium price, and the quantity is the equilibrium quantity. When markets are at equilibrium, there is no tendency for price to change unless influenced by external factors.\n",
      "\n",
      "### Shifts in Supply and Demand\n",
      "Shifts in supply and/or demand can lead to changes in equilibrium price and quantity:\n",
      "- **Increase in demand**: Shifts the demand curve to the right, leading to a higher equilibrium price and quantity.\n",
      "- **Decrease in demand**: Shifts the demand curve to the left, leading to a lower equilibrium price and quantity.\n",
      "- **Increase in supply**: Shifts the supply curve to the right, leading to a lower equilibrium price but a higher equilibrium quantity.\n",
      "- **Decrease in supply**: Shifts the supply curve to the left, leading to a higher equilibrium price but a lower equilibrium quantity.\n",
      "\n",
      "Overall, supply and demand form the basis of economic theory and help explain how various factors influence market behavior and price formation.\n",
      "\n"
     ]
    }
   ],
   "source": [
    "model = \"gpt-4o-mini\"  # Replace with your desired model\n",
    "messages = [\n",
    "    {\"role\": \"user\", \"content\": \"Can you explain the concept of supply and demand in economics?\"}\n",
    "]\n",
    "\n",
    "response = generate_openai_text(api_key, model, messages)\n",
    "formatted_response = format_openai_response(response)\n",
    "print(formatted_response)\n"
   ]
  },
  {
   "cell_type": "code",
   "execution_count": 16,
   "id": "69c93c1e-9c3c-4bfd-860b-7dcdfac11635",
   "metadata": {},
   "outputs": [],
   "source": [
    "chatbot = ChatBot(api_key)"
   ]
  },
  {
   "cell_type": "code",
   "execution_count": 17,
   "id": "b2b170d9-e874-4fcb-a657-a6fdb4b08dbf",
   "metadata": {},
   "outputs": [
    {
     "name": "stdout",
     "output_type": "stream",
     "text": [
      "User: Hello\n",
      "Assistant: Hello! How can I assist you today?\n"
     ]
    }
   ],
   "source": [
    "user_input = \"Hello\"\n",
    "print(f\"User: {user_input}\")\n",
    "response = chatbot.get_response(user_input)\n",
    "print(f\"Assistant: {response}\")"
   ]
  },
  {
   "cell_type": "code",
   "execution_count": 18,
   "id": "79149fd7-db9a-492e-a59b-6c656a0f8a26",
   "metadata": {},
   "outputs": [
    {
     "name": "stdout",
     "output_type": "stream",
     "text": [
      "User: What are some effective strategies for personal growth and self-improvement?\n",
      "Assistant: Personal growth and self-improvement are ongoing processes that can be approached from various angles. Here are some effective strategies to consider:\n",
      "\n",
      "1. **Set Clear Goals**: \n",
      "   - Create specific, measurable, attainable, relevant, and time-bound (SMART) goals. \n",
      "   - Break down long-term goals into smaller, manageable tasks.\n",
      "\n",
      "2. **Develop a Routine**: \n",
      "   - Consistency is key. Establish daily and weekly routines that support your goals.\n",
      "   - Incorporate habits that promote productivity and well-being.\n",
      "\n",
      "3. **Lifelong Learning**: \n",
      "   - Continuously seek out new knowledge and skills. This can be through formal education, online courses, reading books, or attending workshops.\n",
      "   - Stay curious and open-minded.\n",
      "\n",
      "4. **Self-Reflection**: \n",
      "   - Regularly assess your progress and areas for improvement. Journaling can be a helpful tool for self-reflection.\n",
      "   - Understand your strengths and weaknesses.\n",
      "\n",
      "5. **Mindfulness and Meditation**: \n",
      "   - Practices like mindfulness and meditation can help you stay grounded, improve focus, and manage stress.\n",
      "\n",
      "6. **Physical Health**: \n",
      "   - Maintain a balanced diet, exercise regularly, and get enough sleep. Physical health is closely linked to mental well-being.\n",
      "  \n"
     ]
    }
   ],
   "source": [
    "user_input = \"What are some effective strategies for personal growth and self-improvement?\"\n",
    "print(f\"User: {user_input}\")\n",
    "response = chatbot.get_response(user_input)\n",
    "print(f\"Assistant: {response}\")"
   ]
  },
  {
   "cell_type": "code",
   "execution_count": 19,
   "id": "c65cd762-1e26-46e3-a7e4-c424be80d06b",
   "metadata": {},
   "outputs": [
    {
     "name": "stdout",
     "output_type": "stream",
     "text": [
      "User: Which of these strategies do you think is the most important and why?\n",
      "Assistant: The importance of each strategy can vary depending on individual circumstances and goals, but if I had to choose one that often serves as a foundational element for many aspects of personal growth, it would be **Setting Clear Goals**. Here’s why:\n",
      "\n",
      "1. **Direction and Focus**: Clear goals provide a roadmap for where you want to go. They help you focus your efforts and resources on what's most important, preventing you from getting sidetracked or overwhelmed by too many possibilities.\n",
      "\n",
      "2. **Motivation and Commitment**: Knowing exactly what you're working towards can be incredibly motivating. Goals serve as a constant reminder of why you're putting in the effort, which is essential for maintaining commitment over time.\n",
      "\n",
      "3. **Measurement and Accountability**: Having specific goals allows you to measure your progress objectively. This provides a sense of accomplishment as you reach milestones and helps you stay accountable to yourself.\n",
      "\n",
      "4. **Prioritization**: When you have clear goals, it’s easier to prioritize tasks and make decisions that align with your long-term vision. This ensures that your daily activities contribute meaningfully to your personal growth.\n",
      "\n",
      "5. **Adaptability and Problem-Solving**: Clear goals can guide you in finding solutions when you face obstacles. If you know the destination, you can more easily figure\n"
     ]
    }
   ],
   "source": [
    "user_input = \"Which of these strategies do you think is the most important and why?\"\n",
    "print(f\"User: {user_input}\")\n",
    "response = chatbot.get_response(user_input)\n",
    "print(f\"Assistant: {response}\")"
   ]
  },
  {
   "cell_type": "code",
   "execution_count": null,
   "id": "c9153e52-24c9-4f6e-af6a-0c046ea75adc",
   "metadata": {},
   "outputs": [],
   "source": []
  },
  {
   "cell_type": "code",
   "execution_count": null,
   "id": "df62b2cc-d9ea-4ff3-8313-a641db1b00fb",
   "metadata": {},
   "outputs": [],
   "source": []
  }
 ],
 "metadata": {
  "kernelspec": {
   "display_name": "Python 3 (ipykernel)",
   "language": "python",
   "name": "python3"
  },
  "language_info": {
   "codemirror_mode": {
    "name": "ipython",
    "version": 3
   },
   "file_extension": ".py",
   "mimetype": "text/x-python",
   "name": "python",
   "nbconvert_exporter": "python",
   "pygments_lexer": "ipython3",
   "version": "3.12.5"
  }
 },
 "nbformat": 4,
 "nbformat_minor": 5
}
